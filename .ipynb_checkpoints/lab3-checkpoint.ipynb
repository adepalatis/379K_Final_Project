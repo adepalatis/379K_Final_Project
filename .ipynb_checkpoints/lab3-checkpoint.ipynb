{
 "cells": [
  {
   "cell_type": "markdown",
   "metadata": {},
   "source": [
    "# part 1"
   ]
  },
  {
   "cell_type": "code",
   "execution_count": 34,
   "metadata": {
    "collapsed": false
   },
   "outputs": [],
   "source": [
    "import pandas as pd\n",
    "from sklearn import metrics\n",
    "from sklearn.cross_validation import train_test_split\n",
    "from sklearn.svm import SVC\n",
    "from sklearn.preprocessing import StandardScaler\n",
    "\n",
    "# data = pd.read_csv(\"dataset/train.data\", sep = ',', header = None,\n",
    "#                   names = ['age', 'workclass', 'fnlwgt', 'education', 'edunum', 'maritalstatus', 'occupation', \n",
    "#                            'relationship', 'race', 'sex', 'capitalgain', 'capitalloss', 'hpw', 'country', 'salary'],\n",
    "#                   na_values = ' ?')\n",
    "\n",
    "data = pd.read_csv(\"dataset/test.data\", sep = ',', header = None,\n",
    "                  names = ['age', 'workclass', 'fnlwgt', 'education', 'edunum', 'maritalstatus', 'occupation', \n",
    "                           'relationship', 'race', 'sex', 'capitalgain', 'capitalloss', 'hpw', 'country', 'salary'],\n",
    "                  na_values = ' ?')"
   ]
  },
  {
   "cell_type": "code",
   "execution_count": 35,
   "metadata": {
    "collapsed": false
   },
   "outputs": [],
   "source": [
    "data = data.dropna()\n",
    "data['workclass'] = data['workclass'].map({' Private':0, ' Self-emp-not-inc':1, ' Self-emp-inc':2, ' Federal-gov':3,\n",
    "                                           ' Local-gov':4, ' State-gov':5, ' Without-pay':6, ' Never-worked':7}).astype(int)\n",
    "\n",
    "data['education'] = data['education'].map({' Bachelors':0, ' Some-college':1, ' 11th':2, ' HS-grad':3, ' Prof-school':4, \n",
    "                                           ' Assoc-acdm':5, ' Assoc-voc':6, ' 9th':7, ' 7th-8th':8, ' 12th':9, ' Masters':10, \n",
    "                                           ' 1st-4th':11, ' 10th':12, ' Doctorate':13, ' 5th-6th':14, ' Preschool':15}).astype(int)\n",
    "\n",
    "data['occupation'] = data['occupation'].map({' Tech-support':0, ' Craft-repair':1, ' Other-service':2, ' Sales':3, \n",
    "                                             ' Exec-managerial':4, ' Prof-specialty':5, ' Handlers-cleaners':6, \n",
    "                                             ' Machine-op-inspct': 7, ' Adm-clerical':8, ' Farming-fishing':9, \n",
    "                                             ' Transport-moving':10, ' Priv-house-serv':11, \n",
    "                                             ' Protective-serv':12, ' Armed-Forces':13}).astype(int)\n",
    "\n",
    "data['maritalstatus'] = data['maritalstatus'].map({' Married-civ-spouse':0, ' Divorced':1, ' Never-married':2, ' Separated':3, \n",
    "                                                   ' Widowed':4, ' Married-spouse-absent':5, \n",
    "                                                   ' Married-AF-spouse':6}).astype(int)\n",
    "\n",
    "data['relationship'] = data['relationship'].map({' Wife':0, ' Own-child':1, ' Husband':2, ' Not-in-family':3, \n",
    "                                                 ' Other-relative':4, ' Unmarried':5}).astype(int)\n",
    "\n",
    "data['race'] = data['race'].map({' White':0, ' Asian-Pac-Islander':1, ' Amer-Indian-Eskimo':2, ' Other':3, ' Black':4}).astype(int)\n",
    "\n",
    "data['sex'] = data['sex'].map({' Female':0, ' Male':1}).astype(int)\n",
    "\n",
    "data['country'] = data['country'].map({' United-States':0, ' Cambodia':1, ' England':2, ' Puerto-Rico':3, ' Canada':4,\n",
    "                                       ' Germany':5, ' Outlying-US(Guam-USVI-etc)':6, ' India':7, ' Japan':8, ' Greece':9, \n",
    "                                       ' South':10, ' China':11, ' Cuba':12, ' Iran':13, ' Honduras':14, ' Philippines':15, \n",
    "                                       ' Italy':16, ' Poland':17, ' Jamaica':18, ' Vietnam':19, ' Mexico':20, ' Portugal':21, \n",
    "                                       ' Ireland':22, ' France':23, ' Dominican-Republic':24, ' Laos':25, ' Ecuador':26, \n",
    "                                       ' Taiwan':27, ' Haiti':28, ' Columbia':29, ' Hungary':30, ' Guatemala':31, ' Nicaragua':32, \n",
    "                                       ' Scotland':33, ' Thailand':34, ' Yugoslavia':35, ' El-Salvador':36, \n",
    "                                       ' Trinadad&Tobago':37, ' Peru':38, ' Hong':39, ' Holand-Netherlands':40}).astype(int) \n",
    "\n"
   ]
  },
  {
   "cell_type": "code",
   "execution_count": 36,
   "metadata": {
    "collapsed": false
   },
   "outputs": [
    {
     "name": "stdout",
     "output_type": "stream",
     "text": [
      "Accuracy is 0.752656\n"
     ]
    }
   ],
   "source": [
    "dep = data['salary']\n",
    "indep_vars = ['age', 'workclass', 'fnlwgt', 'education', 'edunum', 'maritalstatus', \n",
    "              'occupation', 'relationship', 'race', 'sex', 'capitalgain', 'capitalloss', 'hpw', 'country']\n",
    "indep = data[indep_vars]\n",
    "indep.head(5)\n",
    "\n",
    "indep_train, indep_test, dep_train, dep_test = train_test_split(indep, dep, test_size = 0.6, random_state = 42)\n",
    "clf = SVC()\n",
    "clf.fit(indep_train, dep_train)\n",
    "predict = clf.predict(indep_test)\n",
    "accuracy = metrics.accuracy_score(predict, dep_test)\n",
    "print(\"Accuracy is %f\" % accuracy)"
   ]
  },
  {
   "cell_type": "code",
   "execution_count": 37,
   "metadata": {
    "collapsed": false
   },
   "outputs": [
    {
     "name": "stdout",
     "output_type": "stream",
     "text": [
      "Accuracy is 0.836764\n"
     ]
    }
   ],
   "source": [
    "scaler = StandardScaler().fit(indep)\n",
    "indep_train, indep_test, dep_train, dep_test = train_test_split(indep, dep, test_size = 0.6, random_state = 42)\n",
    "clf = SVC(kernel='linear')\n",
    "clf.fit(scaler.transform(indep_train), dep_train)\n",
    "predict = clf.predict(scaler.transform(indep_test))\n",
    "accuracy = metrics.accuracy_score(predict, dep_test)\n",
    "print(\"Accuracy is %f\" % accuracy)"
   ]
  },
  {
   "cell_type": "code",
   "execution_count": 16,
   "metadata": {
    "collapsed": false
   },
   "outputs": [
    {
     "name": "stdout",
     "output_type": "stream",
     "text": [
      "[LibSVM]Accuracy is 0.751188\n"
     ]
    }
   ],
   "source": [
    "ver_clf = SVC(verbose = True)\n",
    "ver_clf.fit(indep_train, dep_train)\n",
    "ver_predict = ver_clf.predict(indep_test)\n",
    "accuracy = metrics.accuracy_score(ver_predict, dep_test)\n",
    "print(\"Accuracy is %f\" % accuracy)"
   ]
  },
  {
   "cell_type": "code",
   "execution_count": 17,
   "metadata": {
    "collapsed": false
   },
   "outputs": [
    {
     "name": "stderr",
     "output_type": "stream",
     "text": [
      "/Users/Chris/anaconda/lib/python2.7/site-packages/sklearn/svm/base.py:224: ConvergenceWarning: Solver terminated early (max_iter=10).  Consider pre-processing your data with StandardScaler or MinMaxScaler.\n",
      "  % self.max_iter, ConvergenceWarning)\n",
      "/Users/Chris/anaconda/lib/python2.7/site-packages/sklearn/svm/base.py:224: ConvergenceWarning: Solver terminated early (max_iter=100).  Consider pre-processing your data with StandardScaler or MinMaxScaler.\n",
      "  % self.max_iter, ConvergenceWarning)\n"
     ]
    },
    {
     "name": "stdout",
     "output_type": "stream",
     "text": [
      "Accuracy is 0.251409\n",
      "Accuracy is 0.274505\n",
      "Accuracy is 0.425738"
     ]
    },
    {
     "name": "stderr",
     "output_type": "stream",
     "text": [
      "/Users/Chris/anaconda/lib/python2.7/site-packages/sklearn/svm/base.py:224: ConvergenceWarning: Solver terminated early (max_iter=1000).  Consider pre-processing your data with StandardScaler or MinMaxScaler.\n",
      "  % self.max_iter, ConvergenceWarning)\n",
      "/Users/Chris/anaconda/lib/python2.7/site-packages/sklearn/svm/base.py:224: ConvergenceWarning: Solver terminated early (max_iter=10000).  Consider pre-processing your data with StandardScaler or MinMaxScaler.\n",
      "  % self.max_iter, ConvergenceWarning)\n"
     ]
    },
    {
     "name": "stdout",
     "output_type": "stream",
     "text": [
      "\n",
      "Accuracy is 0.751188\n",
      "Accuracy is 0.751188\n"
     ]
    }
   ],
   "source": [
    "iter_list = [10, 100, 1000, 10000, 100000]\n",
    "for max_iter in iter_list:\n",
    "    max_clf = SVC(max_iter = max_iter)\n",
    "    max_clf.fit(indep_train, dep_train)\n",
    "    max_predict = max_clf.predict(indep_test)\n",
    "    accuracy = metrics.accuracy_score(max_predict, dep_test)\n",
    "    print(\"Accuracy is %f\" % accuracy)"
   ]
  },
  {
   "cell_type": "code",
   "execution_count": 18,
   "metadata": {
    "collapsed": false
   },
   "outputs": [
    {
     "name": "stdout",
     "output_type": "stream",
     "text": [
      "Accuracy is 0.750801\n",
      "Accuracy is 0.751243\n",
      "Accuracy is 0.751133\n",
      "Accuracy is 0.751133\n",
      "Accuracy is 0.751133\n"
     ]
    }
   ],
   "source": [
    "gamma_list = [1e-2, 1e-1, 1, 1e1, 1e2]\n",
    "for gamma in gamma_list:\n",
    "    gam_clf = SVC(gamma = gamma)\n",
    "    gam_clf.fit(indep_train, dep_train)\n",
    "    gam_predict = gam_clf.predict(indep_test)\n",
    "    accuracy = metrics.accuracy_score(gam_predict, dep_test)\n",
    "    print(\"Accuracy is %f\" % accuracy)"
   ]
  },
  {
   "cell_type": "code",
   "execution_count": 19,
   "metadata": {
    "collapsed": false
   },
   "outputs": [
    {
     "name": "stdout",
     "output_type": "stream",
     "text": [
      "Accuracy is 0.751188\n"
     ]
    }
   ],
   "source": [
    "dep = data['salary']\n",
    "indep_vars = ['age', 'workclass', 'fnlwgt', 'edunum', \n",
    "              'occupation', 'relationship', 'capitalgain', 'capitalloss', 'hpw', 'country']\n",
    "indep = data[indep_vars]\n",
    "\n",
    "indep_train, indep_test, dep_train, dep_test = train_test_split(indep, dep, test_size = 0.6, random_state = 42)\n",
    "clf = SVC(gamma = 1e-1)\n",
    "clf.fit(indep_train, dep_train)\n",
    "predict = clf.predict(indep_test)\n",
    "accuracy = metrics.accuracy_score(predict, dep_test)\n",
    "print(\"Accuracy is %f\" % accuracy)"
   ]
  },
  {
   "cell_type": "code",
   "execution_count": 20,
   "metadata": {
    "collapsed": false
   },
   "outputs": [
    {
     "name": "stdout",
     "output_type": "stream",
     "text": [
      "Accuracy is 0.751077\n",
      "Accuracy is 0.751077\n",
      "Accuracy is 0.751188\n",
      "Accuracy is 0.750967\n",
      "Accuracy is 0.750967\n"
     ]
    }
   ],
   "source": [
    "c_list = [1e-2, 1e-1, 1, 1e1, 1e2]\n",
    "for C in c_list:\n",
    "    c_clf = SVC(C = C)\n",
    "    c_clf.fit(indep_train, dep_train)\n",
    "    c_predict = c_clf.predict(indep_test)\n",
    "    accuracy = metrics.accuracy_score(c_predict, dep_test)\n",
    "    print(\"Accuracy is %f\" % accuracy)"
   ]
  },
  {
   "cell_type": "code",
   "execution_count": 40,
   "metadata": {
    "collapsed": false
   },
   "outputs": [
    {
     "name": "stdout",
     "output_type": "stream",
     "text": [
      "Accuracy is 0.836764\n"
     ]
    }
   ],
   "source": [
    "scaler = StandardScaler().fit(indep)\n",
    "indep_train, indep_test, dep_train, dep_test = train_test_split(indep, dep, test_size = 0.6, random_state = 42)\n",
    "clf = SVC(kernel='linear', max_iter = 100000, C =1.0)\n",
    "clf.fit(scaler.transform(indep_train), dep_train)\n",
    "predict = clf.predict(scaler.transform(indep_test))\n",
    "accuracy = metrics.accuracy_score(predict, dep_test)\n",
    "print(\"Accuracy is %f\" % accuracy)"
   ]
  },
  {
   "cell_type": "markdown",
   "metadata": {},
   "source": [
    "# part 2"
   ]
  },
  {
   "cell_type": "code",
   "execution_count": 22,
   "metadata": {
    "collapsed": false
   },
   "outputs": [
    {
     "name": "stdout",
     "output_type": "stream",
     "text": [
      "Accuracy is 0.849486\n",
      "Accuracy is 0.847607\n",
      "Accuracy is 0.852580\n",
      "Accuracy is 0.857167\n",
      "Accuracy is 0.858879\n",
      "Accuracy is 0.861421\n",
      "Accuracy is 0.863245\n",
      "Accuracy is 0.866670\n"
     ]
    }
   ],
   "source": [
    "from sklearn.ensemble import AdaBoostClassifier\n",
    "dep = data['salary']\n",
    "indep_vars = ['age', 'workclass', 'fnlwgt', 'education', 'edunum', 'maritalstatus', \n",
    "              'occupation', 'relationship', 'race', 'sex', 'capitalgain', 'capitalloss', 'hpw', 'country']\n",
    "indep = data[indep_vars]\n",
    "indep_train, indep_test, dep_train, dep_test = train_test_split(indep, dep, test_size = 0.6, random_state = 42)\n",
    "\n",
    "estimators_list = [10, 20, 30, 40, 50, 100, 200, 400]\n",
    "for estimators in estimators_list:\n",
    "    clf = AdaBoostClassifier(n_estimators = estimators)\n",
    "    clf.fit(indep_train, dep_train)\n",
    "    predict = clf.predict(indep_test)\n",
    "    accuracy = metrics.accuracy_score(predict, dep_test)\n",
    "    print(\"Accuracy is %f\" % accuracy)"
   ]
  },
  {
   "cell_type": "code",
   "execution_count": 23,
   "metadata": {
    "collapsed": false
   },
   "outputs": [
    {
     "name": "stdout",
     "output_type": "stream",
     "text": [
      "Accuracy is 0.788098\n",
      "Accuracy is 0.831915\n",
      "Accuracy is 0.844458\n",
      "Accuracy is 0.856946\n",
      "Accuracy is 0.858879\n",
      "Accuracy is 0.248923\n",
      "Accuracy is 0.248923\n",
      "Accuracy is 0.248923\n",
      "Accuracy is 0.751077\n",
      "Accuracy is 0.751077\n"
     ]
    }
   ],
   "source": [
    "lr_list = [0.01, 0.05, 0.1, 0.5, 1, 3, 5, 10, 50, 100]\n",
    "\n",
    "for lr in lr_list:\n",
    "    clf = AdaBoostClassifier(learning_rate = lr)\n",
    "    clf.fit(indep_train, dep_train)\n",
    "    predict = clf.predict(indep_test)\n",
    "    accuracy = metrics.accuracy_score(predict, dep_test)\n",
    "    print(\"Accuracy is %f\" % accuracy)"
   ]
  },
  {
   "cell_type": "code",
   "execution_count": 24,
   "metadata": {
    "collapsed": false
   },
   "outputs": [
    {
     "name": "stdout",
     "output_type": "stream",
     "text": [
      "Accuracy is 0.850260\n"
     ]
    }
   ],
   "source": [
    "clf = AdaBoostClassifier(algorithm = 'SAMME')\n",
    "clf.fit(indep_train, dep_train)\n",
    "predict = clf.predict(indep_test)\n",
    "accuracy = metrics.accuracy_score(predict, dep_test)\n",
    "print(\"Accuracy is %f\" % accuracy)"
   ]
  },
  {
   "cell_type": "code",
   "execution_count": 25,
   "metadata": {
    "collapsed": false
   },
   "outputs": [
    {
     "name": "stdout",
     "output_type": "stream",
     "text": [
      "Accuracy is 0.858879\n"
     ]
    }
   ],
   "source": [
    "clf = AdaBoostClassifier(algorithm = 'SAMME.R')\n",
    "clf.fit(indep_train, dep_train)\n",
    "predict = clf.predict(indep_test)\n",
    "accuracy = metrics.accuracy_score(predict, dep_test)\n",
    "print(\"Accuracy is %f\" % accuracy)"
   ]
  },
  {
   "cell_type": "code",
   "execution_count": 26,
   "metadata": {
    "collapsed": false
   },
   "outputs": [
    {
     "name": "stdout",
     "output_type": "stream",
     "text": [
      "Accuracy is 0.858879\n",
      "Accuracy is 0.858879\n",
      "Accuracy is 0.858879\n",
      "Accuracy is 0.858879\n",
      "Accuracy is 0.858879\n",
      "Accuracy is 0.858879\n"
     ]
    }
   ],
   "source": [
    "random_list = [1, 10, 20, 30, 40, 50]\n",
    "for random in random_list:\n",
    "    ran_clf = AdaBoostClassifier(random_state = random)\n",
    "    ran_clf.fit(indep_train, dep_train)\n",
    "    predict = ran_clf.predict(indep_test)\n",
    "    accuracy = metrics.accuracy_score(predict, dep_test)\n",
    "    print(\"Accuracy is %f\" % accuracy)"
   ]
  },
  {
   "cell_type": "code",
   "execution_count": 27,
   "metadata": {
    "collapsed": false
   },
   "outputs": [
    {
     "name": "stdout",
     "output_type": "stream",
     "text": [
      "Accuracy is 0.867057\n"
     ]
    }
   ],
   "source": [
    "clf = AdaBoostClassifier(algorithm = 'SAMME.R', learning_rate = 1, n_estimators = 1000)\n",
    "clf.fit(indep_train, dep_train)\n",
    "predict = clf.predict(indep_test)\n",
    "accuracy = metrics.accuracy_score(predict, dep_test)\n",
    "print(\"Accuracy is %f\" % accuracy)"
   ]
  }
 ],
 "metadata": {
  "kernelspec": {
   "display_name": "Python 2",
   "language": "python",
   "name": "python2"
  },
  "language_info": {
   "codemirror_mode": {
    "name": "ipython",
    "version": 2
   },
   "file_extension": ".py",
   "mimetype": "text/x-python",
   "name": "python",
   "nbconvert_exporter": "python",
   "pygments_lexer": "ipython2",
   "version": "2.7.11"
  }
 },
 "nbformat": 4,
 "nbformat_minor": 0
}
